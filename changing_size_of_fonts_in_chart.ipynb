{
  "nbformat": 4,
  "nbformat_minor": 0,
  "metadata": {
    "colab": {
      "name": "changing_size_of_fonts_in_chart.ipynb",
      "provenance": [],
      "authorship_tag": "ABX9TyP//eJdwmPrSf02KX5JdXnc"
    },
    "kernelspec": {
      "name": "python3",
      "display_name": "Python 3"
    },
    "language_info": {
      "name": "python"
    }
  },
  "cells": [
    {
      "cell_type": "code",
      "metadata": {
        "id": "TIu9fPYQvdA2"
      },
      "source": [
        "import matplotlib.pyplot as plt\n",
        "%matplotlib inline "
      ],
      "execution_count": 1,
      "outputs": []
    },
    {
      "cell_type": "code",
      "metadata": {
        "id": "uieub7Bjv9k5"
      },
      "source": [
        "#changing the size of fonts in the chart\n",
        "plt.rcParams['figure.figsize'] = (18,6)\n",
        "plt.rcParams['figure.titlesize'] = 10\n",
        "plt.rcParams['axes.labelsize'] = 14 \n",
        "plt.rcParams['xtick.labelsize'] = 12\n",
        "plt.rcParams['ytick.labelsize'] = 12\n",
        "plt.rcParams['font.size'] = 16"
      ],
      "execution_count": 2,
      "outputs": []
    },
    {
      "cell_type": "code",
      "metadata": {
        "id": "ARJZsoUNwA6i"
      },
      "source": [
        "#removing the chart border\n",
        "plt.rcParams['axes.spines.right'] = False\n",
        "plt.rcParams['axes.spines.left'] = False\n",
        "plt.rcParams['axes.spines.top'] = False\n",
        "plt.rcParams['axes.spines.bottom'] = False"
      ],
      "execution_count": 3,
      "outputs": []
    }
  ]
}